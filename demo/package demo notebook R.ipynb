{
 "cells": [
  {
   "cell_type": "markdown",
   "metadata": {},
   "source": [
    "This notebook is provided as basic demonstration of use of the pmapUtilities R package, developed by Luke C. Mullany, PhD MS MHS, and available at https://github.com/lmullany/pmapUtilities.git and can be installed using `devtools::install_github(\"lmullany/pmapUtilities\")`\n",
    "\n",
    "- **Platform Tool** : Jupyter/RStudio Crunchr Compute Containers\n",
    "- **Programming Language**: R (>=3.6)\n",
    "- **Author(s)** : Luke C. Mullany\n",
    "- **License** : The notebook is release under the [Apache 2.0 License] (https://www.apache.org/licenses/LICENSE-2.0)\n",
    "- **Last Updated** : March 22, 2021"
   ]
  },
  {
   "cell_type": "markdown",
   "metadata": {},
   "source": [
    "## Basic use of pmapUtilities R package"
   ]
  },
  {
   "cell_type": "markdown",
   "metadata": {},
   "source": [
    "#### Clear workspace and load libraries"
   ]
  },
  {
   "cell_type": "code",
   "execution_count": 15,
   "metadata": {},
   "outputs": [],
   "source": [
    "rm(list=ls())\n",
    "library(pmapUtilities)"
   ]
  },
  {
   "cell_type": "markdown",
   "metadata": {},
   "source": [
    "#### Generate a connection to the database"
   ]
  },
  {
   "cell_type": "code",
   "execution_count": 17,
   "metadata": {},
   "outputs": [
    {
     "name": "stdin",
     "output_type": "stream",
     "text": [
      "Enter Password for lmullan1:  ·········\n"
     ]
    },
    {
     "name": "stdout",
     "output_type": "stream",
     "text": [
      "Note: name/rename your connection as 'default_engine' to avoid\n",
      " specifying an engine in subsequent pmap.utilities:: functions\n"
     ]
    }
   ],
   "source": [
    "de = get_sql_connection(\"CAMP_PMCoE_Projection\",username = \"lmullan1\")"
   ]
  },
  {
   "cell_type": "markdown",
   "metadata": {},
   "source": [
    "#### Show all the tables in this database"
   ]
  },
  {
   "cell_type": "code",
   "execution_count": 18,
   "metadata": {},
   "outputs": [
    {
     "name": "stdout",
     "output_type": "stream",
     "text": [
      "                 table\n",
      " 1:           patients\n",
      " 2:         encounters\n",
      " 3:               labs\n",
      " 4:               meds\n",
      " 5:        problemlist\n",
      " 6:         procedures\n",
      " 7:           symptoms\n",
      " 8:          vitals_BP\n",
      " 9:      vitals_height\n",
      "10:       vitals_pulse\n",
      "11: vitals_respiration\n",
      "12: vitals_temperature\n",
      "13:      vitals_weight\n",
      "14:        sysdiagrams\n"
     ]
    }
   ],
   "source": [
    "print(list_tables(engine=de))"
   ]
  },
  {
   "cell_type": "markdown",
   "metadata": {},
   "source": [
    "#### Call the same function, but this time ask for dimensions (`show_dimensions = TRUE`)"
   ]
  },
  {
   "cell_type": "code",
   "execution_count": 19,
   "metadata": {},
   "outputs": [
    {
     "name": "stdout",
     "output_type": "stream",
     "text": [
      "                 table    rows cols\n",
      " 1:           patients   60676    5\n",
      " 2:         encounters  753484    4\n",
      " 3:               labs 3509868   12\n",
      " 4:               meds  631022   10\n",
      " 5:        problemlist  781379    4\n",
      " 6:         procedures 5550672    6\n",
      " 7:           symptoms 1967436    5\n",
      " 8:          vitals_BP 1061684    7\n",
      " 9:      vitals_height  305612    7\n",
      "10:       vitals_pulse 1227099    7\n",
      "11: vitals_respiration  957677    7\n",
      "12: vitals_temperature  805345    7\n",
      "13:      vitals_weight  406052    7\n",
      "14:        sysdiagrams       0    5\n"
     ]
    }
   ],
   "source": [
    "print(list_tables(engine=de,show_dimensions = TRUE, exact=T))"
   ]
  },
  {
   "cell_type": "markdown",
   "metadata": {},
   "source": [
    "#### List columns for a particular table"
   ]
  },
  {
   "cell_type": "code",
   "execution_count": 20,
   "metadata": {},
   "outputs": [
    {
     "name": "stdout",
     "output_type": "stream",
     "text": [
      "[1] \"osler_id\"       \"encounter_id\"   \"encounter_type\" \"encounter_date\"\n"
     ]
    }
   ],
   "source": [
    "print(list_columns(\"encounters\",engine=de))"
   ]
  },
  {
   "cell_type": "markdown",
   "metadata": {},
   "source": [
    "#### Get the number of rows and columns for just one table (rather than all tables, see above)"
   ]
  },
  {
   "cell_type": "code",
   "execution_count": 21,
   "metadata": {},
   "outputs": [
    {
     "name": "stdout",
     "output_type": "stream",
     "text": [
      "  rows   cols \n",
      "753484      4 \n"
     ]
    }
   ],
   "source": [
    "dims = get_table_dim(\"encounters\", engine=de, exact = T)\n",
    "print(dims)"
   ]
  },
  {
   "cell_type": "markdown",
   "metadata": {},
   "source": [
    "#### Return a lazy handle to the table\n",
    "Note that this feature is using dplyr/dbplyr under the hood, which enables us to translate dplyr verbs into SQL and execute on the table without pulling all rows from the table"
   ]
  },
  {
   "cell_type": "code",
   "execution_count": 22,
   "metadata": {},
   "outputs": [
    {
     "data": {
      "text/plain": [
       "\u001b[90m# Source:   SQL [?? x 4]\u001b[39m\n",
       "\u001b[90m# Database: Microsoft SQL Server 13.00.5830[@ESMPMDBPR4/CAMP_PMCoE_Projection]\u001b[39m\n",
       "   osler_id                      encounter_id encounter_type encounter_date     \n",
       "   \u001b[3m\u001b[90m<chr>\u001b[39m\u001b[23m                                \u001b[3m\u001b[90m<int>\u001b[39m\u001b[23m \u001b[3m\u001b[90m<chr>\u001b[39m\u001b[23m          \u001b[3m\u001b[90m<dttm>\u001b[39m\u001b[23m             \n",
       "\u001b[90m 1\u001b[39m 5303550b-8ed2-42fd-885a-d32b~        \u001b[4m1\u001b[24m\u001b[4m7\u001b[24m938 Office Visit   2015-10-10 \u001b[90m00:00:00\u001b[39m\n",
       "\u001b[90m 2\u001b[39m 5303550b-8ed2-42fd-885a-d32b~       \u001b[4m1\u001b[24m\u001b[4m4\u001b[24m\u001b[4m2\u001b[24m706 Office Visit   2016-01-24 \u001b[90m00:00:00\u001b[39m\n",
       "\u001b[90m 3\u001b[39m 5303550b-8ed2-42fd-885a-d32b~       \u001b[4m5\u001b[24m\u001b[4m7\u001b[24m\u001b[4m1\u001b[24m465 Office Visit   2017-03-19 \u001b[90m00:00:00\u001b[39m\n",
       "\u001b[90m 4\u001b[39m 5303550b-8ed2-42fd-885a-d32b~       \u001b[4m4\u001b[24m\u001b[4m3\u001b[24m\u001b[4m2\u001b[24m470 Office Visit   2016-10-22 \u001b[90m00:00:00\u001b[39m\n",
       "\u001b[90m 5\u001b[39m 5303550b-8ed2-42fd-885a-d32b~       \u001b[4m4\u001b[24m\u001b[4m1\u001b[24m\u001b[4m0\u001b[24m795 Office Visit   2016-10-01 \u001b[90m00:00:00\u001b[39m\n",
       "\u001b[90m 6\u001b[39m 5303550b-8ed2-42fd-885a-d32b~       \u001b[4m6\u001b[24m\u001b[4m3\u001b[24m\u001b[4m1\u001b[24m974 Office Visit   2017-05-08 \u001b[90m00:00:00\u001b[39m\n",
       "\u001b[90m 7\u001b[39m 5303550b-8ed2-42fd-885a-d32b~       \u001b[4m4\u001b[24m\u001b[4m8\u001b[24m\u001b[4m3\u001b[24m944 Office Visit   2016-12-10 \u001b[90m00:00:00\u001b[39m\n",
       "\u001b[90m 8\u001b[39m 5303550b-8ed2-42fd-885a-d32b~       \u001b[4m4\u001b[24m\u001b[4m1\u001b[24m\u001b[4m1\u001b[24m794 Office Visit   2016-10-03 \u001b[90m00:00:00\u001b[39m\n",
       "\u001b[90m 9\u001b[39m 5303550b-8ed2-42fd-885a-d32b~       \u001b[4m3\u001b[24m\u001b[4m2\u001b[24m\u001b[4m4\u001b[24m374 Office Visit   2016-07-11 \u001b[90m00:00:00\u001b[39m\n",
       "\u001b[90m10\u001b[39m 5303550b-8ed2-42fd-885a-d32b~       \u001b[4m7\u001b[24m\u001b[4m0\u001b[24m\u001b[4m5\u001b[24m948 Office Visit   2017-07-19 \u001b[90m00:00:00\u001b[39m\n",
       "\u001b[90m# ... with more rows\u001b[39m"
      ]
     },
     "metadata": {},
     "output_type": "display_data"
    }
   ],
   "source": [
    "encounters = return_table(\"encounters\", engine=de)\n",
    "encounters"
   ]
  },
  {
   "cell_type": "markdown",
   "metadata": {},
   "source": [
    "For example, we can do \"SELECT encounter_type, count() as CT from encounters group by encounter_type ORDER BY COUNT()\" without explicitly writing the SQL query"
   ]
  },
  {
   "cell_type": "code",
   "execution_count": 23,
   "metadata": {},
   "outputs": [
    {
     "data": {
      "text/plain": [
       "\u001b[90m# Source:     lazy query [?? x 2]\u001b[39m\n",
       "\u001b[90m# Database:   Microsoft SQL Server\n",
       "#   13.00.5830[@ESMPMDBPR4/CAMP_PMCoE_Projection]\u001b[39m\n",
       "\u001b[90m# Ordered by: desc(ct)\u001b[39m\n",
       "   encounter_type         ct\n",
       "   \u001b[3m\u001b[90m<chr>\u001b[39m\u001b[23m               \u001b[3m\u001b[90m<int>\u001b[39m\u001b[23m\n",
       "\u001b[90m 1\u001b[39m Office Visit       \u001b[4m4\u001b[24m\u001b[4m3\u001b[24m\u001b[4m1\u001b[24m080\n",
       "\u001b[90m 2\u001b[39m Appointment         \u001b[4m9\u001b[24m\u001b[4m7\u001b[24m718\n",
       "\u001b[90m 3\u001b[39m Hospital Encounter  \u001b[4m8\u001b[24m\u001b[4m6\u001b[24m789\n",
       "\u001b[90m 4\u001b[39m Visit Encounter     \u001b[4m6\u001b[24m\u001b[4m2\u001b[24m740\n",
       "\u001b[90m 5\u001b[39m Clinical Support    \u001b[4m2\u001b[24m\u001b[4m1\u001b[24m626\n",
       "\u001b[90m 6\u001b[39m Procedure visit     \u001b[4m1\u001b[24m\u001b[4m8\u001b[24m256\n",
       "\u001b[90m 7\u001b[39m Results Only         \u001b[4m8\u001b[24m895\n",
       "\u001b[90m 8\u001b[39m Orders Only          \u001b[4m8\u001b[24m635\n",
       "\u001b[90m 9\u001b[39m Anti-coag visit      \u001b[4m7\u001b[24m284\n",
       "\u001b[90m10\u001b[39m Provider Procedure   \u001b[4m2\u001b[24m987\n",
       "\u001b[90m# ... with more rows\u001b[39m"
      ]
     },
     "metadata": {},
     "output_type": "display_data"
    }
   ],
   "source": [
    "encounters %>% dplyr::group_by(encounter_type) %>% dplyr::summarize(ct = n()) %>% dplyr::arrange(desc(ct))"
   ]
  },
  {
   "cell_type": "markdown",
   "metadata": {},
   "source": [
    "We can of course pull the entire table locally, if we desire, using `dplyr::collect()`"
   ]
  },
  {
   "cell_type": "code",
   "execution_count": 24,
   "metadata": {},
   "outputs": [
    {
     "name": "stdout",
     "output_type": "stream",
     "text": [
      "\u001b[90m# A tibble: 10 x 4\u001b[39m\n",
      "   osler_id                      encounter_id encounter_type encounter_date     \n",
      "   \u001b[3m\u001b[90m<chr>\u001b[39m\u001b[23m                                \u001b[3m\u001b[90m<int>\u001b[39m\u001b[23m \u001b[3m\u001b[90m<chr>\u001b[39m\u001b[23m          \u001b[3m\u001b[90m<dttm>\u001b[39m\u001b[23m             \n",
      "\u001b[90m 1\u001b[39m 5303550b-8ed2-42fd-885a-d32b~        \u001b[4m1\u001b[24m\u001b[4m7\u001b[24m938 Office Visit   2015-10-10 \u001b[90m00:00:00\u001b[39m\n",
      "\u001b[90m 2\u001b[39m 5303550b-8ed2-42fd-885a-d32b~       \u001b[4m1\u001b[24m\u001b[4m4\u001b[24m\u001b[4m2\u001b[24m706 Office Visit   2016-01-24 \u001b[90m00:00:00\u001b[39m\n",
      "\u001b[90m 3\u001b[39m 5303550b-8ed2-42fd-885a-d32b~       \u001b[4m5\u001b[24m\u001b[4m7\u001b[24m\u001b[4m1\u001b[24m465 Office Visit   2017-03-19 \u001b[90m00:00:00\u001b[39m\n",
      "\u001b[90m 4\u001b[39m 5303550b-8ed2-42fd-885a-d32b~       \u001b[4m4\u001b[24m\u001b[4m3\u001b[24m\u001b[4m2\u001b[24m470 Office Visit   2016-10-22 \u001b[90m00:00:00\u001b[39m\n",
      "\u001b[90m 5\u001b[39m 5303550b-8ed2-42fd-885a-d32b~       \u001b[4m4\u001b[24m\u001b[4m1\u001b[24m\u001b[4m0\u001b[24m795 Office Visit   2016-10-01 \u001b[90m00:00:00\u001b[39m\n",
      "\u001b[90m 6\u001b[39m 5303550b-8ed2-42fd-885a-d32b~       \u001b[4m6\u001b[24m\u001b[4m3\u001b[24m\u001b[4m1\u001b[24m974 Office Visit   2017-05-08 \u001b[90m00:00:00\u001b[39m\n",
      "\u001b[90m 7\u001b[39m 5303550b-8ed2-42fd-885a-d32b~       \u001b[4m4\u001b[24m\u001b[4m8\u001b[24m\u001b[4m3\u001b[24m944 Office Visit   2016-12-10 \u001b[90m00:00:00\u001b[39m\n",
      "\u001b[90m 8\u001b[39m 5303550b-8ed2-42fd-885a-d32b~       \u001b[4m4\u001b[24m\u001b[4m1\u001b[24m\u001b[4m1\u001b[24m794 Office Visit   2016-10-03 \u001b[90m00:00:00\u001b[39m\n",
      "\u001b[90m 9\u001b[39m 5303550b-8ed2-42fd-885a-d32b~       \u001b[4m3\u001b[24m\u001b[4m2\u001b[24m\u001b[4m4\u001b[24m374 Office Visit   2016-07-11 \u001b[90m00:00:00\u001b[39m\n",
      "\u001b[90m10\u001b[39m 5303550b-8ed2-42fd-885a-d32b~       \u001b[4m7\u001b[24m\u001b[4m0\u001b[24m\u001b[4m5\u001b[24m948 Office Visit   2017-07-19 \u001b[90m00:00:00\u001b[39m\n"
     ]
    }
   ],
   "source": [
    "encounters_local = encounters %>% dplyr::collect()\n",
    "print(encounters_local %>% head(10))"
   ]
  },
  {
   "cell_type": "markdown",
   "metadata": {},
   "source": [
    "#### Use `query_db()` to submit any sql query directly to the database; by default it returns a lazy tbl"
   ]
  },
  {
   "cell_type": "code",
   "execution_count": 25,
   "metadata": {},
   "outputs": [
    {
     "data": {
      "text/plain": [
       "\u001b[90m# Source:     SQL [?? x 2]\u001b[39m\n",
       "\u001b[90m# Database:   Microsoft SQL Server\n",
       "#   13.00.5830[@ESMPMDBPR4/CAMP_PMCoE_Projection]\u001b[39m\n",
       "\u001b[90m# Ordered by: desc(ct)\u001b[39m\n",
       "   encounter_type         ct\n",
       "   \u001b[3m\u001b[90m<chr>\u001b[39m\u001b[23m               \u001b[3m\u001b[90m<int>\u001b[39m\u001b[23m\n",
       "\u001b[90m 1\u001b[39m Office Visit       \u001b[4m4\u001b[24m\u001b[4m3\u001b[24m\u001b[4m1\u001b[24m080\n",
       "\u001b[90m 2\u001b[39m Appointment         \u001b[4m9\u001b[24m\u001b[4m7\u001b[24m718\n",
       "\u001b[90m 3\u001b[39m Hospital Encounter  \u001b[4m8\u001b[24m\u001b[4m6\u001b[24m789\n",
       "\u001b[90m 4\u001b[39m Visit Encounter     \u001b[4m6\u001b[24m\u001b[4m2\u001b[24m740\n",
       "\u001b[90m 5\u001b[39m Clinical Support    \u001b[4m2\u001b[24m\u001b[4m1\u001b[24m626\n",
       "\u001b[90m 6\u001b[39m Procedure visit     \u001b[4m1\u001b[24m\u001b[4m8\u001b[24m256\n",
       "\u001b[90m 7\u001b[39m Results Only         \u001b[4m8\u001b[24m895\n",
       "\u001b[90m 8\u001b[39m Orders Only          \u001b[4m8\u001b[24m635\n",
       "\u001b[90m 9\u001b[39m Anti-coag visit      \u001b[4m7\u001b[24m284\n",
       "\u001b[90m10\u001b[39m Provider Procedure   \u001b[4m2\u001b[24m987\n",
       "\u001b[90m# ... with more rows\u001b[39m"
      ]
     },
     "metadata": {},
     "output_type": "display_data"
    }
   ],
   "source": [
    "qry <- \"SELECT encounter_type, ct = COUNT(*) FROM encounters GROUP BY encounter_type\"\n",
    "query_db(qry, engine=de) %>% dplyr::arrange(desc(ct))"
   ]
  },
  {
   "cell_type": "markdown",
   "metadata": {},
   "source": [
    "#### Use gen_random_table() to get subset of a table"
   ]
  },
  {
   "cell_type": "code",
   "execution_count": 34,
   "metadata": {},
   "outputs": [
    {
     "name": "stdout",
     "output_type": "stream",
     "text": [
      "Name of the newly created table is  #31e5ixaf9t0d8yr9 \n"
     ]
    }
   ],
   "source": [
    "# generate the temp table; the function returns the name of the temp table\n",
    "random_px = gen_random_table(\"patients\",idvars=\"osler_id\", engine=de)\n",
    "cat(\"Name of the newly created table is \", random_px,\"\\n\")"
   ]
  },
  {
   "cell_type": "code",
   "execution_count": 39,
   "metadata": {},
   "outputs": [
    {
     "data": {
      "text/plain": [
       "\u001b[90m# Source:   lazy query [?? x 1]\u001b[39m\n",
       "\u001b[90m# Database: Microsoft SQL Server 13.00.5830[@ESMPMDBPR4/CAMP_PMCoE_Projection]\u001b[39m\n",
       "      n\n",
       "  \u001b[3m\u001b[90m<int>\u001b[39m\u001b[23m\n",
       "\u001b[90m1\u001b[39m  \u001b[4m1\u001b[24m000"
      ]
     },
     "metadata": {},
     "output_type": "display_data"
    }
   ],
   "source": [
    "return_table(random_px, engine=de) %>%\n",
    "    dplyr::count()\n"
   ]
  },
  {
   "cell_type": "code",
   "execution_count": null,
   "metadata": {},
   "outputs": [],
   "source": []
  }
 ],
 "metadata": {
  "kernelspec": {
   "display_name": "R ",
   "language": "R",
   "name": "ir"
  },
  "language_info": {
   "codemirror_mode": "r",
   "file_extension": ".r",
   "mimetype": "text/x-r-source",
   "name": "R",
   "pygments_lexer": "r",
   "version": "4.0.0"
  }
 },
 "nbformat": 4,
 "nbformat_minor": 4
}
