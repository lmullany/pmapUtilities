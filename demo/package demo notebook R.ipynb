{
 "cells": [
  {
   "cell_type": "markdown",
   "metadata": {},
   "source": [
    "This notebook is provided as basic demonstration of use of the pmapUtilities R package, developed by Luke C. Mullany, PhD MS MHS, and available at https://github.com/lmullany/pmapUtilities.git and can be installed using `devtools::install_github(\"lmullany/pmapUtilities\")`\n",
    "\n",
    "- **Platform Tool** : Jupyter/RStudio Crunchr Compute Containers\n",
    "- **Programming Language**: R (>=3.6)\n",
    "- **Author(s)** : Luke C. Mullany\n",
    "- **Last Updated** : September 12, 2022"
   ]
  },
  {
   "cell_type": "markdown",
   "metadata": {},
   "source": [
    "## Basic use of pmapUtilities R package"
   ]
  },
  {
   "cell_type": "markdown",
   "metadata": {},
   "source": [
    "#### Clear workspace and load libraries"
   ]
  },
  {
   "cell_type": "code",
   "execution_count": 1,
   "metadata": {},
   "outputs": [],
   "source": [
    "rm(list=ls())\n",
    "library(pmapUtilities)"
   ]
  },
  {
   "cell_type": "markdown",
   "metadata": {},
   "source": [
    "#### Get information on available databases\n",
    "Use the `get_database_names()` function, passing your username (JHED ID). This will return a three column tibble with columns `name`, `database_id`, and `create_date`. You can optionally pass an argumen to the `pattern` parameter, to filter the results to a specific subset of database names"
   ]
  },
  {
   "cell_type": "code",
   "execution_count": 2,
   "metadata": {},
   "outputs": [
    {
     "name": "stdin",
     "output_type": "stream",
     "text": [
      "Enter Password for lmullan1:  ·········\n"
     ]
    }
   ],
   "source": [
    "dbs = get_database_names(username=\"lmullan1\")"
   ]
  },
  {
   "cell_type": "code",
   "execution_count": 3,
   "metadata": {},
   "outputs": [
    {
     "data": {
      "text/html": [
       "<table class=\"dataframe\">\n",
       "<caption>A tibble: 3 x 3</caption>\n",
       "<thead>\n",
       "\t<tr><th scope=col>name</th><th scope=col>database_id</th><th scope=col>create_date</th></tr>\n",
       "\t<tr><th scope=col>&lt;chr&gt;</th><th scope=col>&lt;int&gt;</th><th scope=col>&lt;dttm&gt;</th></tr>\n",
       "</thead>\n",
       "<tbody>\n",
       "\t<tr><td>Kidney_Menez_IRB00304696_Scratch   </td><td>305</td><td>2022-09-08 16:37:58</td></tr>\n",
       "\t<tr><td>Kidney_Menez_IRB00304696_Projection</td><td>306</td><td>2022-09-08 16:38:09</td></tr>\n",
       "\t<tr><td>NCCU_OMOP                          </td><td>307</td><td>2022-09-08 16:42:35</td></tr>\n",
       "</tbody>\n",
       "</table>\n"
      ],
      "text/latex": [
       "A tibble: 3 x 3\n",
       "\\begin{tabular}{lll}\n",
       " name & database\\_id & create\\_date\\\\\n",
       " <chr> & <int> & <dttm>\\\\\n",
       "\\hline\n",
       "\t Kidney\\_Menez\\_IRB00304696\\_Scratch    & 305 & 2022-09-08 16:37:58\\\\\n",
       "\t Kidney\\_Menez\\_IRB00304696\\_Projection & 306 & 2022-09-08 16:38:09\\\\\n",
       "\t NCCU\\_OMOP                           & 307 & 2022-09-08 16:42:35\\\\\n",
       "\\end{tabular}\n"
      ],
      "text/markdown": [
       "\n",
       "A tibble: 3 x 3\n",
       "\n",
       "| name &lt;chr&gt; | database_id &lt;int&gt; | create_date &lt;dttm&gt; |\n",
       "|---|---|---|\n",
       "| Kidney_Menez_IRB00304696_Scratch    | 305 | 2022-09-08 16:37:58 |\n",
       "| Kidney_Menez_IRB00304696_Projection | 306 | 2022-09-08 16:38:09 |\n",
       "| NCCU_OMOP                           | 307 | 2022-09-08 16:42:35 |\n",
       "\n"
      ],
      "text/plain": [
       "  name                                database_id create_date        \n",
       "1 Kidney_Menez_IRB00304696_Scratch    305         2022-09-08 16:37:58\n",
       "2 Kidney_Menez_IRB00304696_Projection 306         2022-09-08 16:38:09\n",
       "3 NCCU_OMOP                           307         2022-09-08 16:42:35"
      ]
     },
     "metadata": {},
     "output_type": "display_data"
    }
   ],
   "source": [
    "tail(dbs,3)"
   ]
  },
  {
   "cell_type": "markdown",
   "metadata": {},
   "source": [
    "Here we limit our search to just databases where name starts with `\"PatientSafety\"`"
   ]
  },
  {
   "cell_type": "code",
   "execution_count": 4,
   "metadata": {},
   "outputs": [
    {
     "name": "stdin",
     "output_type": "stream",
     "text": [
      "Enter Password for lmullan1:  ·········\n"
     ]
    }
   ],
   "source": [
    "dbs = get_database_names(username = \"lmullan1\", pattern=\"^PatientSafety\")"
   ]
  },
  {
   "cell_type": "code",
   "execution_count": 5,
   "metadata": {},
   "outputs": [
    {
     "data": {
      "text/html": [
       "<table class=\"dataframe\">\n",
       "<caption>A tibble: 8 x 3</caption>\n",
       "<thead>\n",
       "\t<tr><th scope=col>name</th><th scope=col>database_id</th><th scope=col>create_date</th></tr>\n",
       "\t<tr><th scope=col>&lt;chr&gt;</th><th scope=col>&lt;int&gt;</th><th scope=col>&lt;dttm&gt;</th></tr>\n",
       "</thead>\n",
       "<tbody>\n",
       "\t<tr><td>PatientSafetyQualityWSP_Scratch             </td><td>123</td><td>2021-03-02 07:38:28</td></tr>\n",
       "\t<tr><td>PatientSafetyQualityVTE_Scratch             </td><td>182</td><td>2021-07-27 09:57:07</td></tr>\n",
       "\t<tr><td>PatientSafetyQualityMA_Projection           </td><td>219</td><td>2022-01-04 16:25:42</td></tr>\n",
       "\t<tr><td>PatientSafetyQualityMA_Scratch              </td><td>220</td><td>2022-01-04 16:25:56</td></tr>\n",
       "\t<tr><td>PatientSafetyQualityWSP_Projection          </td><td>221</td><td>2022-03-16 08:42:08</td></tr>\n",
       "\t<tr><td>PatientSafetyQuality_JHM_Keystone_Scratch   </td><td>269</td><td>2022-05-06 10:54:07</td></tr>\n",
       "\t<tr><td>PatientSafetyQuality_JHM_Keystone_Projection</td><td>270</td><td>2022-05-06 10:54:20</td></tr>\n",
       "\t<tr><td>PatientSafetyQualityVTE_Projection          </td><td>299</td><td>2022-08-19 08:55:42</td></tr>\n",
       "</tbody>\n",
       "</table>\n"
      ],
      "text/latex": [
       "A tibble: 8 x 3\n",
       "\\begin{tabular}{lll}\n",
       " name & database\\_id & create\\_date\\\\\n",
       " <chr> & <int> & <dttm>\\\\\n",
       "\\hline\n",
       "\t PatientSafetyQualityWSP\\_Scratch              & 123 & 2021-03-02 07:38:28\\\\\n",
       "\t PatientSafetyQualityVTE\\_Scratch              & 182 & 2021-07-27 09:57:07\\\\\n",
       "\t PatientSafetyQualityMA\\_Projection            & 219 & 2022-01-04 16:25:42\\\\\n",
       "\t PatientSafetyQualityMA\\_Scratch               & 220 & 2022-01-04 16:25:56\\\\\n",
       "\t PatientSafetyQualityWSP\\_Projection           & 221 & 2022-03-16 08:42:08\\\\\n",
       "\t PatientSafetyQuality\\_JHM\\_Keystone\\_Scratch    & 269 & 2022-05-06 10:54:07\\\\\n",
       "\t PatientSafetyQuality\\_JHM\\_Keystone\\_Projection & 270 & 2022-05-06 10:54:20\\\\\n",
       "\t PatientSafetyQualityVTE\\_Projection           & 299 & 2022-08-19 08:55:42\\\\\n",
       "\\end{tabular}\n"
      ],
      "text/markdown": [
       "\n",
       "A tibble: 8 x 3\n",
       "\n",
       "| name &lt;chr&gt; | database_id &lt;int&gt; | create_date &lt;dttm&gt; |\n",
       "|---|---|---|\n",
       "| PatientSafetyQualityWSP_Scratch              | 123 | 2021-03-02 07:38:28 |\n",
       "| PatientSafetyQualityVTE_Scratch              | 182 | 2021-07-27 09:57:07 |\n",
       "| PatientSafetyQualityMA_Projection            | 219 | 2022-01-04 16:25:42 |\n",
       "| PatientSafetyQualityMA_Scratch               | 220 | 2022-01-04 16:25:56 |\n",
       "| PatientSafetyQualityWSP_Projection           | 221 | 2022-03-16 08:42:08 |\n",
       "| PatientSafetyQuality_JHM_Keystone_Scratch    | 269 | 2022-05-06 10:54:07 |\n",
       "| PatientSafetyQuality_JHM_Keystone_Projection | 270 | 2022-05-06 10:54:20 |\n",
       "| PatientSafetyQualityVTE_Projection           | 299 | 2022-08-19 08:55:42 |\n",
       "\n"
      ],
      "text/plain": [
       "  name                                         database_id create_date        \n",
       "1 PatientSafetyQualityWSP_Scratch              123         2021-03-02 07:38:28\n",
       "2 PatientSafetyQualityVTE_Scratch              182         2021-07-27 09:57:07\n",
       "3 PatientSafetyQualityMA_Projection            219         2022-01-04 16:25:42\n",
       "4 PatientSafetyQualityMA_Scratch               220         2022-01-04 16:25:56\n",
       "5 PatientSafetyQualityWSP_Projection           221         2022-03-16 08:42:08\n",
       "6 PatientSafetyQuality_JHM_Keystone_Scratch    269         2022-05-06 10:54:07\n",
       "7 PatientSafetyQuality_JHM_Keystone_Projection 270         2022-05-06 10:54:20\n",
       "8 PatientSafetyQualityVTE_Projection           299         2022-08-19 08:55:42"
      ]
     },
     "metadata": {},
     "output_type": "display_data"
    }
   ],
   "source": [
    "dbs"
   ]
  },
  {
   "cell_type": "markdown",
   "metadata": {},
   "source": [
    "#### Generate a connection to the database\n",
    "Here, we use the `get_sql_connection()` function, passing a database name, and a username (JHED ID). You can assign this object to `default_engine` (or any other name). The advantage of using `default_engine` is that all subsequent `pmapUtilities` functions that require a connection object will look by default in the global environment for `default_engine`"
   ]
  },
  {
   "cell_type": "code",
   "execution_count": 6,
   "metadata": {},
   "outputs": [
    {
     "name": "stdin",
     "output_type": "stream",
     "text": [
      "Enter Password for lmullan1:  ·········\n"
     ]
    }
   ],
   "source": [
    "default_engine = get_sql_connection(dbname = \"CAMP_PMCoE_Projection\",username = \"lmullan1\")"
   ]
  },
  {
   "cell_type": "markdown",
   "metadata": {},
   "source": [
    "#### Show all the tables in this database"
   ]
  },
  {
   "cell_type": "code",
   "execution_count": 7,
   "metadata": {},
   "outputs": [
    {
     "data": {
      "text/html": [
       "<table class=\"dataframe\">\n",
       "<caption>A data.table: 15 x 1</caption>\n",
       "<thead>\n",
       "\t<tr><th scope=col>table</th></tr>\n",
       "\t<tr><th scope=col>&lt;chr&gt;</th></tr>\n",
       "</thead>\n",
       "<tbody>\n",
       "\t<tr><td>patients          </td></tr>\n",
       "\t<tr><td>encounters        </td></tr>\n",
       "\t<tr><td>labs              </td></tr>\n",
       "\t<tr><td>meds              </td></tr>\n",
       "\t<tr><td>problemlist       </td></tr>\n",
       "\t<tr><td>procedures        </td></tr>\n",
       "\t<tr><td>symptoms          </td></tr>\n",
       "\t<tr><td>vitals_BP         </td></tr>\n",
       "\t<tr><td>vitals_height     </td></tr>\n",
       "\t<tr><td>vitals_pulse      </td></tr>\n",
       "\t<tr><td>vitals_respiration</td></tr>\n",
       "\t<tr><td>vitals_temperature</td></tr>\n",
       "\t<tr><td>vitals_weight     </td></tr>\n",
       "\t<tr><td>sysdiagrams       </td></tr>\n",
       "\t<tr><td>projection_status </td></tr>\n",
       "</tbody>\n",
       "</table>\n"
      ],
      "text/latex": [
       "A data.table: 15 x 1\n",
       "\\begin{tabular}{l}\n",
       " table\\\\\n",
       " <chr>\\\\\n",
       "\\hline\n",
       "\t patients          \\\\\n",
       "\t encounters        \\\\\n",
       "\t labs              \\\\\n",
       "\t meds              \\\\\n",
       "\t problemlist       \\\\\n",
       "\t procedures        \\\\\n",
       "\t symptoms          \\\\\n",
       "\t vitals\\_BP         \\\\\n",
       "\t vitals\\_height     \\\\\n",
       "\t vitals\\_pulse      \\\\\n",
       "\t vitals\\_respiration\\\\\n",
       "\t vitals\\_temperature\\\\\n",
       "\t vitals\\_weight     \\\\\n",
       "\t sysdiagrams       \\\\\n",
       "\t projection\\_status \\\\\n",
       "\\end{tabular}\n"
      ],
      "text/markdown": [
       "\n",
       "A data.table: 15 x 1\n",
       "\n",
       "| table &lt;chr&gt; |\n",
       "|---|\n",
       "| patients           |\n",
       "| encounters         |\n",
       "| labs               |\n",
       "| meds               |\n",
       "| problemlist        |\n",
       "| procedures         |\n",
       "| symptoms           |\n",
       "| vitals_BP          |\n",
       "| vitals_height      |\n",
       "| vitals_pulse       |\n",
       "| vitals_respiration |\n",
       "| vitals_temperature |\n",
       "| vitals_weight      |\n",
       "| sysdiagrams        |\n",
       "| projection_status  |\n",
       "\n"
      ],
      "text/plain": [
       "   table             \n",
       "1  patients          \n",
       "2  encounters        \n",
       "3  labs              \n",
       "4  meds              \n",
       "5  problemlist       \n",
       "6  procedures        \n",
       "7  symptoms          \n",
       "8  vitals_BP         \n",
       "9  vitals_height     \n",
       "10 vitals_pulse      \n",
       "11 vitals_respiration\n",
       "12 vitals_temperature\n",
       "13 vitals_weight     \n",
       "14 sysdiagrams       \n",
       "15 projection_status "
      ]
     },
     "metadata": {},
     "output_type": "display_data"
    }
   ],
   "source": [
    "list_tables()"
   ]
  },
  {
   "cell_type": "markdown",
   "metadata": {},
   "source": [
    "#### Call the same function, but this time ask for dimensions (`show_dimensions = TRUE`)"
   ]
  },
  {
   "cell_type": "code",
   "execution_count": 8,
   "metadata": {},
   "outputs": [
    {
     "data": {
      "text/html": [
       "<table class=\"dataframe\">\n",
       "<caption>A data.table: 15 x 3</caption>\n",
       "<thead>\n",
       "\t<tr><th scope=col>table</th><th scope=col>rows</th><th scope=col>cols</th></tr>\n",
       "\t<tr><th scope=col>&lt;chr&gt;</th><th scope=col>&lt;dbl&gt;</th><th scope=col>&lt;dbl&gt;</th></tr>\n",
       "</thead>\n",
       "<tbody>\n",
       "\t<tr><td>patients          </td><td>  60676</td><td> 5</td></tr>\n",
       "\t<tr><td>encounters        </td><td> 753484</td><td> 4</td></tr>\n",
       "\t<tr><td>labs              </td><td>3509868</td><td>12</td></tr>\n",
       "\t<tr><td>meds              </td><td> 631022</td><td>10</td></tr>\n",
       "\t<tr><td>problemlist       </td><td> 781379</td><td> 4</td></tr>\n",
       "\t<tr><td>procedures        </td><td>5550672</td><td> 6</td></tr>\n",
       "\t<tr><td>symptoms          </td><td>1967436</td><td> 5</td></tr>\n",
       "\t<tr><td>vitals_BP         </td><td>1061684</td><td> 7</td></tr>\n",
       "\t<tr><td>vitals_height     </td><td> 305612</td><td> 7</td></tr>\n",
       "\t<tr><td>vitals_pulse      </td><td>1227099</td><td> 7</td></tr>\n",
       "\t<tr><td>vitals_respiration</td><td> 957677</td><td> 7</td></tr>\n",
       "\t<tr><td>vitals_temperature</td><td> 805345</td><td> 7</td></tr>\n",
       "\t<tr><td>vitals_weight     </td><td> 406052</td><td> 7</td></tr>\n",
       "\t<tr><td>sysdiagrams       </td><td>      0</td><td> 5</td></tr>\n",
       "\t<tr><td>projection_status </td><td>      0</td><td> 9</td></tr>\n",
       "</tbody>\n",
       "</table>\n"
      ],
      "text/latex": [
       "A data.table: 15 x 3\n",
       "\\begin{tabular}{lll}\n",
       " table & rows & cols\\\\\n",
       " <chr> & <dbl> & <dbl>\\\\\n",
       "\\hline\n",
       "\t patients           &   60676 &  5\\\\\n",
       "\t encounters         &  753484 &  4\\\\\n",
       "\t labs               & 3509868 & 12\\\\\n",
       "\t meds               &  631022 & 10\\\\\n",
       "\t problemlist        &  781379 &  4\\\\\n",
       "\t procedures         & 5550672 &  6\\\\\n",
       "\t symptoms           & 1967436 &  5\\\\\n",
       "\t vitals\\_BP          & 1061684 &  7\\\\\n",
       "\t vitals\\_height      &  305612 &  7\\\\\n",
       "\t vitals\\_pulse       & 1227099 &  7\\\\\n",
       "\t vitals\\_respiration &  957677 &  7\\\\\n",
       "\t vitals\\_temperature &  805345 &  7\\\\\n",
       "\t vitals\\_weight      &  406052 &  7\\\\\n",
       "\t sysdiagrams        &       0 &  5\\\\\n",
       "\t projection\\_status  &       0 &  9\\\\\n",
       "\\end{tabular}\n"
      ],
      "text/markdown": [
       "\n",
       "A data.table: 15 x 3\n",
       "\n",
       "| table &lt;chr&gt; | rows &lt;dbl&gt; | cols &lt;dbl&gt; |\n",
       "|---|---|---|\n",
       "| patients           |   60676 |  5 |\n",
       "| encounters         |  753484 |  4 |\n",
       "| labs               | 3509868 | 12 |\n",
       "| meds               |  631022 | 10 |\n",
       "| problemlist        |  781379 |  4 |\n",
       "| procedures         | 5550672 |  6 |\n",
       "| symptoms           | 1967436 |  5 |\n",
       "| vitals_BP          | 1061684 |  7 |\n",
       "| vitals_height      |  305612 |  7 |\n",
       "| vitals_pulse       | 1227099 |  7 |\n",
       "| vitals_respiration |  957677 |  7 |\n",
       "| vitals_temperature |  805345 |  7 |\n",
       "| vitals_weight      |  406052 |  7 |\n",
       "| sysdiagrams        |       0 |  5 |\n",
       "| projection_status  |       0 |  9 |\n",
       "\n"
      ],
      "text/plain": [
       "   table              rows    cols\n",
       "1  patients             60676  5  \n",
       "2  encounters          753484  4  \n",
       "3  labs               3509868 12  \n",
       "4  meds                631022 10  \n",
       "5  problemlist         781379  4  \n",
       "6  procedures         5550672  6  \n",
       "7  symptoms           1967436  5  \n",
       "8  vitals_BP          1061684  7  \n",
       "9  vitals_height       305612  7  \n",
       "10 vitals_pulse       1227099  7  \n",
       "11 vitals_respiration  957677  7  \n",
       "12 vitals_temperature  805345  7  \n",
       "13 vitals_weight       406052  7  \n",
       "14 sysdiagrams              0  5  \n",
       "15 projection_status        0  9  "
      ]
     },
     "metadata": {},
     "output_type": "display_data"
    }
   ],
   "source": [
    "list_tables(show_dimensions = TRUE, exact=T)"
   ]
  },
  {
   "cell_type": "markdown",
   "metadata": {},
   "source": [
    "#### List columns for a particular table"
   ]
  },
  {
   "cell_type": "code",
   "execution_count": 10,
   "metadata": {},
   "outputs": [
    {
     "data": {
      "text/html": [
       "<style>\n",
       ".list-inline {list-style: none; margin:0; padding: 0}\n",
       ".list-inline>li {display: inline-block}\n",
       ".list-inline>li:not(:last-child)::after {content: \"\\00b7\"; padding: 0 .5ex}\n",
       "</style>\n",
       "<ol class=list-inline><li>'osler_id'</li><li>'encounter_id'</li><li>'encounter_type'</li><li>'encounter_date'</li></ol>\n"
      ],
      "text/latex": [
       "\\begin{enumerate*}\n",
       "\\item 'osler\\_id'\n",
       "\\item 'encounter\\_id'\n",
       "\\item 'encounter\\_type'\n",
       "\\item 'encounter\\_date'\n",
       "\\end{enumerate*}\n"
      ],
      "text/markdown": [
       "1. 'osler_id'\n",
       "2. 'encounter_id'\n",
       "3. 'encounter_type'\n",
       "4. 'encounter_date'\n",
       "\n",
       "\n"
      ],
      "text/plain": [
       "[1] \"osler_id\"       \"encounter_id\"   \"encounter_type\" \"encounter_date\""
      ]
     },
     "metadata": {},
     "output_type": "display_data"
    }
   ],
   "source": [
    "list_columns(\"encounters\")"
   ]
  },
  {
   "cell_type": "markdown",
   "metadata": {},
   "source": [
    "#### Get the number of rows and columns for just one table (rather than all tables, see above)"
   ]
  },
  {
   "cell_type": "code",
   "execution_count": 11,
   "metadata": {},
   "outputs": [
    {
     "data": {
      "text/html": [
       "<style>\n",
       ".dl-inline {width: auto; margin:0; padding: 0}\n",
       ".dl-inline>dt, .dl-inline>dd {float: none; width: auto; display: inline-block}\n",
       ".dl-inline>dt::after {content: \":\\0020\"; padding-right: .5ex}\n",
       ".dl-inline>dt:not(:first-of-type) {padding-left: .5ex}\n",
       "</style><dl class=dl-inline><dt>rows</dt><dd>753484</dd><dt>cols</dt><dd>4</dd></dl>\n"
      ],
      "text/latex": [
       "\\begin{description*}\n",
       "\\item[rows] 753484\n",
       "\\item[cols] 4\n",
       "\\end{description*}\n"
      ],
      "text/markdown": [
       "rows\n",
       ":   753484cols\n",
       ":   4\n",
       "\n"
      ],
      "text/plain": [
       "  rows   cols \n",
       "753484      4 "
      ]
     },
     "metadata": {},
     "output_type": "display_data"
    }
   ],
   "source": [
    "get_table_dim(\"encounters\", exact = T)"
   ]
  },
  {
   "cell_type": "markdown",
   "metadata": {},
   "source": [
    "#### Return a lazy handle to the table\n",
    "Note that this feature is using dplyr/dbplyr under the hood, which enables us to translate dplyr verbs into SQL and execute on the table without pulling all rows from the table"
   ]
  },
  {
   "cell_type": "code",
   "execution_count": 12,
   "metadata": {},
   "outputs": [
    {
     "data": {
      "text/plain": [
       "\u001b[90m# Source:   table<dbo.encounters> [?? x 4]\u001b[39m\n",
       "\u001b[90m# Database: Microsoft SQL Server 13.00.5830[@ESMPMDBPR4/CAMP_PMCoE_Projection]\u001b[39m\n",
       "   osler_id                             encounter_id encou~1 encounter_date     \n",
       "   \u001b[3m\u001b[90m<chr>\u001b[39m\u001b[23m                                       \u001b[3m\u001b[90m<int>\u001b[39m\u001b[23m \u001b[3m\u001b[90m<chr>\u001b[39m\u001b[23m   \u001b[3m\u001b[90m<dttm>\u001b[39m\u001b[23m             \n",
       "\u001b[90m 1\u001b[39m 5303550b-8ed2-42fd-885a-d32b308b05f3        \u001b[4m1\u001b[24m\u001b[4m7\u001b[24m938 Office~ 2015-10-10 \u001b[90m00:00:00\u001b[39m\n",
       "\u001b[90m 2\u001b[39m 5303550b-8ed2-42fd-885a-d32b308b05f3       \u001b[4m1\u001b[24m\u001b[4m4\u001b[24m\u001b[4m2\u001b[24m706 Office~ 2016-01-24 \u001b[90m00:00:00\u001b[39m\n",
       "\u001b[90m 3\u001b[39m 5303550b-8ed2-42fd-885a-d32b308b05f3       \u001b[4m5\u001b[24m\u001b[4m7\u001b[24m\u001b[4m1\u001b[24m465 Office~ 2017-03-19 \u001b[90m00:00:00\u001b[39m\n",
       "\u001b[90m 4\u001b[39m 5303550b-8ed2-42fd-885a-d32b308b05f3       \u001b[4m4\u001b[24m\u001b[4m3\u001b[24m\u001b[4m2\u001b[24m470 Office~ 2016-10-22 \u001b[90m00:00:00\u001b[39m\n",
       "\u001b[90m 5\u001b[39m 5303550b-8ed2-42fd-885a-d32b308b05f3       \u001b[4m4\u001b[24m\u001b[4m1\u001b[24m\u001b[4m0\u001b[24m795 Office~ 2016-10-01 \u001b[90m00:00:00\u001b[39m\n",
       "\u001b[90m 6\u001b[39m 5303550b-8ed2-42fd-885a-d32b308b05f3       \u001b[4m6\u001b[24m\u001b[4m3\u001b[24m\u001b[4m1\u001b[24m974 Office~ 2017-05-08 \u001b[90m00:00:00\u001b[39m\n",
       "\u001b[90m 7\u001b[39m 5303550b-8ed2-42fd-885a-d32b308b05f3       \u001b[4m4\u001b[24m\u001b[4m8\u001b[24m\u001b[4m3\u001b[24m944 Office~ 2016-12-10 \u001b[90m00:00:00\u001b[39m\n",
       "\u001b[90m 8\u001b[39m 5303550b-8ed2-42fd-885a-d32b308b05f3       \u001b[4m4\u001b[24m\u001b[4m1\u001b[24m\u001b[4m1\u001b[24m794 Office~ 2016-10-03 \u001b[90m00:00:00\u001b[39m\n",
       "\u001b[90m 9\u001b[39m 5303550b-8ed2-42fd-885a-d32b308b05f3       \u001b[4m3\u001b[24m\u001b[4m2\u001b[24m\u001b[4m4\u001b[24m374 Office~ 2016-07-11 \u001b[90m00:00:00\u001b[39m\n",
       "\u001b[90m10\u001b[39m 5303550b-8ed2-42fd-885a-d32b308b05f3       \u001b[4m7\u001b[24m\u001b[4m0\u001b[24m\u001b[4m5\u001b[24m948 Office~ 2017-07-19 \u001b[90m00:00:00\u001b[39m\n",
       "\u001b[90m# ... with more rows, and abbreviated variable name 1: encounter_type\u001b[39m\n",
       "\u001b[90m# i Use `print(n = ...)` to see more rows\u001b[39m"
      ]
     },
     "metadata": {},
     "output_type": "display_data"
    }
   ],
   "source": [
    "encounters = return_table(\"encounters\")\n",
    "encounters"
   ]
  },
  {
   "cell_type": "markdown",
   "metadata": {},
   "source": [
    "For example, we can do `\"SELECT encounter_type, count() as CT from encounters group by encounter_type ORDER BY COUNT()\"` without explicitly writing the SQL query"
   ]
  },
  {
   "cell_type": "code",
   "execution_count": 13,
   "metadata": {},
   "outputs": [
    {
     "data": {
      "text/plain": [
       "\u001b[90m# Source:     SQL [?? x 2]\u001b[39m\n",
       "\u001b[90m# Database:   Microsoft SQL Server 13.00.5830[@ESMPMDBPR4/CAMP_PMCoE_Projection]\u001b[39m\n",
       "\u001b[90m# Ordered by: desc(n)\u001b[39m\n",
       "   encounter_type          n\n",
       "   \u001b[3m\u001b[90m<chr>\u001b[39m\u001b[23m               \u001b[3m\u001b[90m<int>\u001b[39m\u001b[23m\n",
       "\u001b[90m 1\u001b[39m Office Visit       \u001b[4m4\u001b[24m\u001b[4m3\u001b[24m\u001b[4m1\u001b[24m080\n",
       "\u001b[90m 2\u001b[39m Appointment         \u001b[4m9\u001b[24m\u001b[4m7\u001b[24m718\n",
       "\u001b[90m 3\u001b[39m Hospital Encounter  \u001b[4m8\u001b[24m\u001b[4m6\u001b[24m789\n",
       "\u001b[90m 4\u001b[39m Visit Encounter     \u001b[4m6\u001b[24m\u001b[4m2\u001b[24m740\n",
       "\u001b[90m 5\u001b[39m Clinical Support    \u001b[4m2\u001b[24m\u001b[4m1\u001b[24m626\n",
       "\u001b[90m 6\u001b[39m Procedure visit     \u001b[4m1\u001b[24m\u001b[4m8\u001b[24m256\n",
       "\u001b[90m 7\u001b[39m Results Only         \u001b[4m8\u001b[24m895\n",
       "\u001b[90m 8\u001b[39m Orders Only          \u001b[4m8\u001b[24m635\n",
       "\u001b[90m 9\u001b[39m Anti-coag visit      \u001b[4m7\u001b[24m284\n",
       "\u001b[90m10\u001b[39m Provider Procedure   \u001b[4m2\u001b[24m987\n",
       "\u001b[90m# ... with more rows\u001b[39m\n",
       "\u001b[90m# i Use `print(n = ...)` to see more rows\u001b[39m"
      ]
     },
     "metadata": {},
     "output_type": "display_data"
    }
   ],
   "source": [
    "dplyr::count(encounters, encounter_type, sort=T)"
   ]
  },
  {
   "cell_type": "markdown",
   "metadata": {},
   "source": [
    "We can of course pull the entire table locally, if we desire, using `dplyr::collect()`"
   ]
  },
  {
   "cell_type": "code",
   "execution_count": 14,
   "metadata": {},
   "outputs": [
    {
     "name": "stdout",
     "output_type": "stream",
     "text": [
      "\u001b[90m# A tibble: 10 x 4\u001b[39m\n",
      "   osler_id                             encounter_id encou~1 encounter_date     \n",
      "   \u001b[3m\u001b[90m<chr>\u001b[39m\u001b[23m                                       \u001b[3m\u001b[90m<int>\u001b[39m\u001b[23m \u001b[3m\u001b[90m<chr>\u001b[39m\u001b[23m   \u001b[3m\u001b[90m<dttm>\u001b[39m\u001b[23m             \n",
      "\u001b[90m 1\u001b[39m 5303550b-8ed2-42fd-885a-d32b308b05f3        \u001b[4m1\u001b[24m\u001b[4m7\u001b[24m938 Office~ 2015-10-10 \u001b[90m00:00:00\u001b[39m\n",
      "\u001b[90m 2\u001b[39m 5303550b-8ed2-42fd-885a-d32b308b05f3       \u001b[4m1\u001b[24m\u001b[4m4\u001b[24m\u001b[4m2\u001b[24m706 Office~ 2016-01-24 \u001b[90m00:00:00\u001b[39m\n",
      "\u001b[90m 3\u001b[39m 5303550b-8ed2-42fd-885a-d32b308b05f3       \u001b[4m5\u001b[24m\u001b[4m7\u001b[24m\u001b[4m1\u001b[24m465 Office~ 2017-03-19 \u001b[90m00:00:00\u001b[39m\n",
      "\u001b[90m 4\u001b[39m 5303550b-8ed2-42fd-885a-d32b308b05f3       \u001b[4m4\u001b[24m\u001b[4m3\u001b[24m\u001b[4m2\u001b[24m470 Office~ 2016-10-22 \u001b[90m00:00:00\u001b[39m\n",
      "\u001b[90m 5\u001b[39m 5303550b-8ed2-42fd-885a-d32b308b05f3       \u001b[4m4\u001b[24m\u001b[4m1\u001b[24m\u001b[4m0\u001b[24m795 Office~ 2016-10-01 \u001b[90m00:00:00\u001b[39m\n",
      "\u001b[90m 6\u001b[39m 5303550b-8ed2-42fd-885a-d32b308b05f3       \u001b[4m6\u001b[24m\u001b[4m3\u001b[24m\u001b[4m1\u001b[24m974 Office~ 2017-05-08 \u001b[90m00:00:00\u001b[39m\n",
      "\u001b[90m 7\u001b[39m 5303550b-8ed2-42fd-885a-d32b308b05f3       \u001b[4m4\u001b[24m\u001b[4m8\u001b[24m\u001b[4m3\u001b[24m944 Office~ 2016-12-10 \u001b[90m00:00:00\u001b[39m\n",
      "\u001b[90m 8\u001b[39m 5303550b-8ed2-42fd-885a-d32b308b05f3       \u001b[4m4\u001b[24m\u001b[4m1\u001b[24m\u001b[4m1\u001b[24m794 Office~ 2016-10-03 \u001b[90m00:00:00\u001b[39m\n",
      "\u001b[90m 9\u001b[39m 5303550b-8ed2-42fd-885a-d32b308b05f3       \u001b[4m3\u001b[24m\u001b[4m2\u001b[24m\u001b[4m4\u001b[24m374 Office~ 2016-07-11 \u001b[90m00:00:00\u001b[39m\n",
      "\u001b[90m10\u001b[39m 5303550b-8ed2-42fd-885a-d32b308b05f3       \u001b[4m7\u001b[24m\u001b[4m0\u001b[24m\u001b[4m5\u001b[24m948 Office~ 2017-07-19 \u001b[90m00:00:00\u001b[39m\n",
      "\u001b[90m# ... with abbreviated variable name 1: encounter_type\u001b[39m\n"
     ]
    }
   ],
   "source": [
    "encounters_local = encounters %>% dplyr::collect()\n",
    "print(encounters_local %>% head(10))"
   ]
  },
  {
   "cell_type": "markdown",
   "metadata": {},
   "source": [
    "#### Use `query_db()` to submit any sql query directly to the database; by default it returns a lazy tbl"
   ]
  },
  {
   "cell_type": "code",
   "execution_count": 16,
   "metadata": {},
   "outputs": [
    {
     "data": {
      "text/plain": [
       "\u001b[90m# Source:     SQL [?? x 2]\u001b[39m\n",
       "\u001b[90m# Database:   Microsoft SQL Server 13.00.5830[@ESMPMDBPR4/CAMP_PMCoE_Projection]\u001b[39m\n",
       "\u001b[90m# Ordered by: desc(ct)\u001b[39m\n",
       "   encounter_type         ct\n",
       "   \u001b[3m\u001b[90m<chr>\u001b[39m\u001b[23m               \u001b[3m\u001b[90m<int>\u001b[39m\u001b[23m\n",
       "\u001b[90m 1\u001b[39m Office Visit       \u001b[4m4\u001b[24m\u001b[4m3\u001b[24m\u001b[4m1\u001b[24m080\n",
       "\u001b[90m 2\u001b[39m Appointment         \u001b[4m9\u001b[24m\u001b[4m7\u001b[24m718\n",
       "\u001b[90m 3\u001b[39m Hospital Encounter  \u001b[4m8\u001b[24m\u001b[4m6\u001b[24m789\n",
       "\u001b[90m 4\u001b[39m Visit Encounter     \u001b[4m6\u001b[24m\u001b[4m2\u001b[24m740\n",
       "\u001b[90m 5\u001b[39m Clinical Support    \u001b[4m2\u001b[24m\u001b[4m1\u001b[24m626\n",
       "\u001b[90m 6\u001b[39m Procedure visit     \u001b[4m1\u001b[24m\u001b[4m8\u001b[24m256\n",
       "\u001b[90m 7\u001b[39m Results Only         \u001b[4m8\u001b[24m895\n",
       "\u001b[90m 8\u001b[39m Orders Only          \u001b[4m8\u001b[24m635\n",
       "\u001b[90m 9\u001b[39m Anti-coag visit      \u001b[4m7\u001b[24m284\n",
       "\u001b[90m10\u001b[39m Provider Procedure   \u001b[4m2\u001b[24m987\n",
       "\u001b[90m# ... with more rows\u001b[39m\n",
       "\u001b[90m# i Use `print(n = ...)` to see more rows\u001b[39m"
      ]
     },
     "metadata": {},
     "output_type": "display_data"
    }
   ],
   "source": [
    "qry <- \"SELECT encounter_type, ct = COUNT(*) FROM encounters GROUP BY encounter_type\"\n",
    "query_db(qry) %>% dplyr::arrange(desc(ct))"
   ]
  },
  {
   "cell_type": "markdown",
   "metadata": {},
   "source": [
    "#### Use gen_random_table() to get subset of the identifying variables for a table; the function creates a table on the db, and returns the name of that temp table"
   ]
  },
  {
   "cell_type": "code",
   "execution_count": 18,
   "metadata": {},
   "outputs": [
    {
     "name": "stdout",
     "output_type": "stream",
     "text": [
      "Name of the newly created table is  #qw1whqw431npwtjs \n"
     ]
    }
   ],
   "source": [
    "random_px = gen_random_table(\"patients\",idvars=\"osler_id\", engine=default_engine)\n",
    "cat(\"Name of the newly created table is \", random_px,\"\\n\")"
   ]
  },
  {
   "cell_type": "markdown",
   "metadata": {},
   "source": [
    "### You can feed this table name, just like any other table name, to the `return_table()` function"
   ]
  },
  {
   "cell_type": "code",
   "execution_count": 20,
   "metadata": {},
   "outputs": [
    {
     "data": {
      "text/plain": [
       "\u001b[90m# Source:   table<dbo.#qw1whqw431npwtjs> [?? x 1]\u001b[39m\n",
       "\u001b[90m# Database: Microsoft SQL Server 13.00.5830[@ESMPMDBPR4/CAMP_PMCoE_Projection]\u001b[39m\n",
       "   osler_id                            \n",
       "   \u001b[3m\u001b[90m<chr>\u001b[39m\u001b[23m                               \n",
       "\u001b[90m 1\u001b[39m 02d6224e-f7cb-4b5d-9868-952360cdcaa9\n",
       "\u001b[90m 2\u001b[39m 02f55980-ab50-41aa-812d-0c642848fa45\n",
       "\u001b[90m 3\u001b[39m 044dc300-c300-4b51-b345-48475c895187\n",
       "\u001b[90m 4\u001b[39m 0edef1fb-02ea-473d-b1bb-6bedc77c26b0\n",
       "\u001b[90m 5\u001b[39m 1431a676-d36b-4653-8c82-db96bb157f13\n",
       "\u001b[90m 6\u001b[39m 1d9d520e-b137-4182-92e4-3ac663791617\n",
       "\u001b[90m 7\u001b[39m 2407e141-1a56-483b-931a-3380a6e5d1c7\n",
       "\u001b[90m 8\u001b[39m 27137853-1129-4e99-b42c-0d601567b779\n",
       "\u001b[90m 9\u001b[39m 27b0ed87-12b2-4d28-9da3-211de651cd9f\n",
       "\u001b[90m10\u001b[39m 365dbbb0-3e6b-4479-8b99-6cc9e6f95620\n",
       "\u001b[90m# ... with more rows\u001b[39m\n",
       "\u001b[90m# i Use `print(n = ...)` to see more rows\u001b[39m"
      ]
     },
     "metadata": {},
     "output_type": "display_data"
    }
   ],
   "source": [
    "return_table(random_px, engine=default_engine)"
   ]
  },
  {
   "cell_type": "markdown",
   "metadata": {},
   "source": [
    "### This table of random ids could be used in simple joins, for example, below we get all the rows from the `vitals_weight` table for the osler ids in the `random_px` table."
   ]
  },
  {
   "cell_type": "code",
   "execution_count": 21,
   "metadata": {},
   "outputs": [
    {
     "data": {
      "text/plain": [
       "\u001b[90m# Source:   SQL [?? x 7]\u001b[39m\n",
       "\u001b[90m# Database: Microsoft SQL Server 13.00.5830[@ESMPMDBPR4/CAMP_PMCoE_Projection]\u001b[39m\n",
       "   osler_id       encou~1 encou~2 admission_date      discharge_date weight\n",
       "   \u001b[3m\u001b[90m<chr>\u001b[39m\u001b[23m            \u001b[3m\u001b[90m<int>\u001b[39m\u001b[23m \u001b[3m\u001b[90m<chr>\u001b[39m\u001b[23m   \u001b[3m\u001b[90m<dttm>\u001b[39m\u001b[23m              \u001b[3m\u001b[90m<dttm>\u001b[39m\u001b[23m         \u001b[3m\u001b[90m<chr>\u001b[39m\u001b[23m \n",
       "\u001b[90m 1\u001b[39m e490d206-db28~  \u001b[4m1\u001b[24m\u001b[4m1\u001b[24m\u001b[4m3\u001b[24m734 Office~ 2017-01-01 \u001b[90m00:00:00\u001b[39m \u001b[31mNA\u001b[39m             35.1  \n",
       "\u001b[90m 2\u001b[39m e490d206-db28~  \u001b[4m2\u001b[24m\u001b[4m1\u001b[24m\u001b[4m6\u001b[24m667 Office~ 2016-11-30 \u001b[90m00:00:00\u001b[39m \u001b[31mNA\u001b[39m             34.93 \n",
       "\u001b[90m 3\u001b[39m e490d206-db28~  \u001b[4m1\u001b[24m\u001b[4m7\u001b[24m\u001b[4m1\u001b[24m900 Office~ 2016-10-24 \u001b[90m00:00:00\u001b[39m \u001b[31mNA\u001b[39m             36.03 \n",
       "\u001b[90m 4\u001b[39m e490d206-db28~  \u001b[4m4\u001b[24m\u001b[4m3\u001b[24m\u001b[4m9\u001b[24m056 Office~ 2017-07-02 \u001b[90m00:00:00\u001b[39m \u001b[31mNA\u001b[39m             36.8  \n",
       "\u001b[90m 5\u001b[39m e490d206-db28~  \u001b[4m3\u001b[24m\u001b[4m9\u001b[24m\u001b[4m4\u001b[24m328 Office~ 2017-05-20 \u001b[90m00:00:00\u001b[39m \u001b[31mNA\u001b[39m             35.29 \n",
       "\u001b[90m 6\u001b[39m e490d206-db28~  \u001b[4m1\u001b[24m\u001b[4m7\u001b[24m\u001b[4m9\u001b[24m107 Office~ 2016-12-24 \u001b[90m00:00:00\u001b[39m \u001b[31mNA\u001b[39m             32.74 \n",
       "\u001b[90m 7\u001b[39m e490d206-db28~  \u001b[4m1\u001b[24m\u001b[4m0\u001b[24m\u001b[4m8\u001b[24m444 Proced~ 2016-08-23 \u001b[90m00:00:00\u001b[39m \u001b[31mNA\u001b[39m             34.7  \n",
       "\u001b[90m 8\u001b[39m e490d206-db28~   \u001b[4m4\u001b[24m\u001b[4m5\u001b[24m749 Office~ 2016-08-23 \u001b[90m00:00:00\u001b[39m \u001b[31mNA\u001b[39m             34.7  \n",
       "\u001b[90m 9\u001b[39m e490d206-db28~   \u001b[4m1\u001b[24m\u001b[4m0\u001b[24m863 Office~ 2016-07-31 \u001b[90m00:00:00\u001b[39m \u001b[31mNA\u001b[39m             34.47 \n",
       "\u001b[90m10\u001b[39m e490d206-db28~  \u001b[4m1\u001b[24m\u001b[4m0\u001b[24m\u001b[4m0\u001b[24m630 Office~ 2016-08-07 \u001b[90m00:00:00\u001b[39m \u001b[31mNA\u001b[39m             33.57 \n",
       "\u001b[90m# ... with more rows, 1 more variable: weight_date <dttm>, and abbreviated\u001b[39m\n",
       "\u001b[90m#   variable names 1: encounter_id, 2: encounter_type\u001b[39m\n",
       "\u001b[90m# i Use `print(n = ...)` to see more rows, and `colnames()` to see all variable names\u001b[39m"
      ]
     },
     "metadata": {},
     "output_type": "display_data"
    }
   ],
   "source": [
    "return_table(\"vitals_weight\") %>% \n",
    "    dplyr::inner_join(return_table(random_px), by=\"osler_id\")"
   ]
  },
  {
   "cell_type": "code",
   "execution_count": null,
   "metadata": {},
   "outputs": [],
   "source": []
  }
 ],
 "metadata": {
  "kernelspec": {
   "display_name": "R ",
   "language": "R",
   "name": "ir"
  },
  "language_info": {
   "codemirror_mode": "r",
   "file_extension": ".r",
   "mimetype": "text/x-r-source",
   "name": "R",
   "pygments_lexer": "r",
   "version": "4.0.0"
  }
 },
 "nbformat": 4,
 "nbformat_minor": 4
}
