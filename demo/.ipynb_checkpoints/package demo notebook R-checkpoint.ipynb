{
 "cells": [
  {
   "cell_type": "markdown",
   "metadata": {},
   "source": [
    "This notebook is provided as basic demonstration of use of the pmapUtilities R package, developed by Luke C. Mullany, PhD MS MHS, and available at https://github.com/lmullany/pmapUtilities.git and can be installed using `devtools::install_github(\"lmullany/pmapUtilities\")`\n",
    "\n",
    "- **Platform Tool** : Jupyter/RStudio Crunchr Compute Containers\n",
    "- **Programming Language**: R (>=3.6)\n",
    "- **Author(s)** : Luke C. Mullany\n",
    "- **Last Updated** : February 3rd, 2022"
   ]
  },
  {
   "cell_type": "markdown",
   "metadata": {},
   "source": [
    "## Basic use of pmapUtilities R package"
   ]
  },
  {
   "cell_type": "markdown",
   "metadata": {},
   "source": [
    "#### Clear workspace and load libraries"
   ]
  },
  {
   "cell_type": "code",
   "execution_count": 1,
   "metadata": {},
   "outputs": [],
   "source": [
    "rm(list=ls())\n",
    "library(pmapUtilities)"
   ]
  },
  {
   "cell_type": "markdown",
   "metadata": {},
   "source": [
    "#### Generate a connection to the database"
   ]
  },
  {
   "cell_type": "code",
   "execution_count": 2,
   "metadata": {},
   "outputs": [
    {
     "name": "stdin",
     "output_type": "stream",
     "text": [
      "Enter Password for lmullan1:  ·········\n"
     ]
    }
   ],
   "source": [
    "de = get_sql_connection(\"CAMP_PMCoE_Projection\",username = \"lmullan1\")"
   ]
  },
  {
   "cell_type": "markdown",
   "metadata": {},
   "source": [
    "#### Show all the tables in this database"
   ]
  },
  {
   "cell_type": "code",
   "execution_count": 3,
   "metadata": {},
   "outputs": [
    {
     "data": {
      "text/html": [
       "<table>\n",
       "<caption>A data.table: 15 x 1</caption>\n",
       "<thead>\n",
       "\t<tr><th scope=col>table</th></tr>\n",
       "\t<tr><th scope=col>&lt;chr&gt;</th></tr>\n",
       "</thead>\n",
       "<tbody>\n",
       "\t<tr><td>patients          </td></tr>\n",
       "\t<tr><td>encounters        </td></tr>\n",
       "\t<tr><td>labs              </td></tr>\n",
       "\t<tr><td>meds              </td></tr>\n",
       "\t<tr><td>problemlist       </td></tr>\n",
       "\t<tr><td>procedures        </td></tr>\n",
       "\t<tr><td>symptoms          </td></tr>\n",
       "\t<tr><td>vitals_BP         </td></tr>\n",
       "\t<tr><td>vitals_height     </td></tr>\n",
       "\t<tr><td>vitals_pulse      </td></tr>\n",
       "\t<tr><td>vitals_respiration</td></tr>\n",
       "\t<tr><td>vitals_temperature</td></tr>\n",
       "\t<tr><td>vitals_weight     </td></tr>\n",
       "\t<tr><td>sysdiagrams       </td></tr>\n",
       "\t<tr><td>projection_status </td></tr>\n",
       "</tbody>\n",
       "</table>\n"
      ],
      "text/latex": [
       "A data.table: 15 x 1\n",
       "\\begin{tabular}{l}\n",
       " table\\\\\n",
       " <chr>\\\\\n",
       "\\hline\n",
       "\t patients          \\\\\n",
       "\t encounters        \\\\\n",
       "\t labs              \\\\\n",
       "\t meds              \\\\\n",
       "\t problemlist       \\\\\n",
       "\t procedures        \\\\\n",
       "\t symptoms          \\\\\n",
       "\t vitals\\_BP         \\\\\n",
       "\t vitals\\_height     \\\\\n",
       "\t vitals\\_pulse      \\\\\n",
       "\t vitals\\_respiration\\\\\n",
       "\t vitals\\_temperature\\\\\n",
       "\t vitals\\_weight     \\\\\n",
       "\t sysdiagrams       \\\\\n",
       "\t projection\\_status \\\\\n",
       "\\end{tabular}\n"
      ],
      "text/markdown": [
       "\n",
       "A data.table: 15 x 1\n",
       "\n",
       "| table &lt;chr&gt; |\n",
       "|---|\n",
       "| patients           |\n",
       "| encounters         |\n",
       "| labs               |\n",
       "| meds               |\n",
       "| problemlist        |\n",
       "| procedures         |\n",
       "| symptoms           |\n",
       "| vitals_BP          |\n",
       "| vitals_height      |\n",
       "| vitals_pulse       |\n",
       "| vitals_respiration |\n",
       "| vitals_temperature |\n",
       "| vitals_weight      |\n",
       "| sysdiagrams        |\n",
       "| projection_status  |\n",
       "\n"
      ],
      "text/plain": [
       "   table             \n",
       "1  patients          \n",
       "2  encounters        \n",
       "3  labs              \n",
       "4  meds              \n",
       "5  problemlist       \n",
       "6  procedures        \n",
       "7  symptoms          \n",
       "8  vitals_BP         \n",
       "9  vitals_height     \n",
       "10 vitals_pulse      \n",
       "11 vitals_respiration\n",
       "12 vitals_temperature\n",
       "13 vitals_weight     \n",
       "14 sysdiagrams       \n",
       "15 projection_status "
      ]
     },
     "metadata": {},
     "output_type": "display_data"
    }
   ],
   "source": [
    "list_tables(engine=de)"
   ]
  },
  {
   "cell_type": "markdown",
   "metadata": {},
   "source": [
    "#### Call the same function, but this time ask for dimensions (`show_dimensions = TRUE`)"
   ]
  },
  {
   "cell_type": "code",
   "execution_count": 4,
   "metadata": {},
   "outputs": [
    {
     "data": {
      "text/html": [
       "<table>\n",
       "<caption>A data.table: 15 x 3</caption>\n",
       "<thead>\n",
       "\t<tr><th scope=col>table</th><th scope=col>rows</th><th scope=col>cols</th></tr>\n",
       "\t<tr><th scope=col>&lt;chr&gt;</th><th scope=col>&lt;dbl&gt;</th><th scope=col>&lt;dbl&gt;</th></tr>\n",
       "</thead>\n",
       "<tbody>\n",
       "\t<tr><td>patients          </td><td>  60676</td><td> 5</td></tr>\n",
       "\t<tr><td>encounters        </td><td> 753484</td><td> 4</td></tr>\n",
       "\t<tr><td>labs              </td><td>3509868</td><td>12</td></tr>\n",
       "\t<tr><td>meds              </td><td> 631022</td><td>10</td></tr>\n",
       "\t<tr><td>problemlist       </td><td> 781379</td><td> 4</td></tr>\n",
       "\t<tr><td>procedures        </td><td>5550672</td><td> 6</td></tr>\n",
       "\t<tr><td>symptoms          </td><td>1967436</td><td> 5</td></tr>\n",
       "\t<tr><td>vitals_BP         </td><td>1061684</td><td> 7</td></tr>\n",
       "\t<tr><td>vitals_height     </td><td> 305612</td><td> 7</td></tr>\n",
       "\t<tr><td>vitals_pulse      </td><td>1227099</td><td> 7</td></tr>\n",
       "\t<tr><td>vitals_respiration</td><td> 957677</td><td> 7</td></tr>\n",
       "\t<tr><td>vitals_temperature</td><td> 805345</td><td> 7</td></tr>\n",
       "\t<tr><td>vitals_weight     </td><td> 406052</td><td> 7</td></tr>\n",
       "\t<tr><td>sysdiagrams       </td><td>      0</td><td> 5</td></tr>\n",
       "\t<tr><td>projection_status </td><td>      0</td><td> 9</td></tr>\n",
       "</tbody>\n",
       "</table>\n"
      ],
      "text/latex": [
       "A data.table: 15 x 3\n",
       "\\begin{tabular}{lll}\n",
       " table & rows & cols\\\\\n",
       " <chr> & <dbl> & <dbl>\\\\\n",
       "\\hline\n",
       "\t patients           &   60676 &  5\\\\\n",
       "\t encounters         &  753484 &  4\\\\\n",
       "\t labs               & 3509868 & 12\\\\\n",
       "\t meds               &  631022 & 10\\\\\n",
       "\t problemlist        &  781379 &  4\\\\\n",
       "\t procedures         & 5550672 &  6\\\\\n",
       "\t symptoms           & 1967436 &  5\\\\\n",
       "\t vitals\\_BP          & 1061684 &  7\\\\\n",
       "\t vitals\\_height      &  305612 &  7\\\\\n",
       "\t vitals\\_pulse       & 1227099 &  7\\\\\n",
       "\t vitals\\_respiration &  957677 &  7\\\\\n",
       "\t vitals\\_temperature &  805345 &  7\\\\\n",
       "\t vitals\\_weight      &  406052 &  7\\\\\n",
       "\t sysdiagrams        &       0 &  5\\\\\n",
       "\t projection\\_status  &       0 &  9\\\\\n",
       "\\end{tabular}\n"
      ],
      "text/markdown": [
       "\n",
       "A data.table: 15 x 3\n",
       "\n",
       "| table &lt;chr&gt; | rows &lt;dbl&gt; | cols &lt;dbl&gt; |\n",
       "|---|---|---|\n",
       "| patients           |   60676 |  5 |\n",
       "| encounters         |  753484 |  4 |\n",
       "| labs               | 3509868 | 12 |\n",
       "| meds               |  631022 | 10 |\n",
       "| problemlist        |  781379 |  4 |\n",
       "| procedures         | 5550672 |  6 |\n",
       "| symptoms           | 1967436 |  5 |\n",
       "| vitals_BP          | 1061684 |  7 |\n",
       "| vitals_height      |  305612 |  7 |\n",
       "| vitals_pulse       | 1227099 |  7 |\n",
       "| vitals_respiration |  957677 |  7 |\n",
       "| vitals_temperature |  805345 |  7 |\n",
       "| vitals_weight      |  406052 |  7 |\n",
       "| sysdiagrams        |       0 |  5 |\n",
       "| projection_status  |       0 |  9 |\n",
       "\n"
      ],
      "text/plain": [
       "   table              rows    cols\n",
       "1  patients             60676  5  \n",
       "2  encounters          753484  4  \n",
       "3  labs               3509868 12  \n",
       "4  meds                631022 10  \n",
       "5  problemlist         781379  4  \n",
       "6  procedures         5550672  6  \n",
       "7  symptoms           1967436  5  \n",
       "8  vitals_BP          1061684  7  \n",
       "9  vitals_height       305612  7  \n",
       "10 vitals_pulse       1227099  7  \n",
       "11 vitals_respiration  957677  7  \n",
       "12 vitals_temperature  805345  7  \n",
       "13 vitals_weight       406052  7  \n",
       "14 sysdiagrams              0  5  \n",
       "15 projection_status        0  9  "
      ]
     },
     "metadata": {},
     "output_type": "display_data"
    }
   ],
   "source": [
    "list_tables(engine=de,show_dimensions = TRUE, exact=T)"
   ]
  },
  {
   "cell_type": "markdown",
   "metadata": {},
   "source": [
    "#### List columns for a particular table"
   ]
  },
  {
   "cell_type": "code",
   "execution_count": 5,
   "metadata": {},
   "outputs": [
    {
     "name": "stdout",
     "output_type": "stream",
     "text": [
      "[1] \"osler_id\"       \"encounter_id\"   \"encounter_type\" \"encounter_date\"\n"
     ]
    }
   ],
   "source": [
    "print(list_columns(\"encounters\",engine=de))"
   ]
  },
  {
   "cell_type": "markdown",
   "metadata": {},
   "source": [
    "#### Get the number of rows and columns for just one table (rather than all tables, see above)"
   ]
  },
  {
   "cell_type": "code",
   "execution_count": 6,
   "metadata": {},
   "outputs": [
    {
     "name": "stdout",
     "output_type": "stream",
     "text": [
      "  rows   cols \n",
      "753484      4 \n"
     ]
    }
   ],
   "source": [
    "dims = get_table_dim(\"encounters\", engine=de, exact = T)\n",
    "print(dims)"
   ]
  },
  {
   "cell_type": "markdown",
   "metadata": {},
   "source": [
    "#### Return a lazy handle to the table\n",
    "Note that this feature is using dplyr/dbplyr under the hood, which enables us to translate dplyr verbs into SQL and execute on the table without pulling all rows from the table"
   ]
  },
  {
   "cell_type": "code",
   "execution_count": 7,
   "metadata": {},
   "outputs": [
    {
     "data": {
      "text/plain": [
       "\u001b[90m# Source:   table<dbo.encounters> [?? x 4]\u001b[39m\n",
       "\u001b[90m# Database: Microsoft SQL Server 13.00.5830[@ESMPMDBPR4/CAMP_PMCoE_Projection]\u001b[39m\n",
       "   osler_id                             encounter_id encounter_type encounter_date     \n",
       "   \u001b[3m\u001b[90m<chr>\u001b[39m\u001b[23m                                       \u001b[3m\u001b[90m<int>\u001b[39m\u001b[23m \u001b[3m\u001b[90m<chr>\u001b[39m\u001b[23m          \u001b[3m\u001b[90m<dttm>\u001b[39m\u001b[23m             \n",
       "\u001b[90m 1\u001b[39m 5303550b-8ed2-42fd-885a-d32b308b05f3        \u001b[4m1\u001b[24m\u001b[4m7\u001b[24m938 Office Visit   2015-10-10 \u001b[90m00:00:00\u001b[39m\n",
       "\u001b[90m 2\u001b[39m 5303550b-8ed2-42fd-885a-d32b308b05f3       \u001b[4m1\u001b[24m\u001b[4m4\u001b[24m\u001b[4m2\u001b[24m706 Office Visit   2016-01-24 \u001b[90m00:00:00\u001b[39m\n",
       "\u001b[90m 3\u001b[39m 5303550b-8ed2-42fd-885a-d32b308b05f3       \u001b[4m5\u001b[24m\u001b[4m7\u001b[24m\u001b[4m1\u001b[24m465 Office Visit   2017-03-19 \u001b[90m00:00:00\u001b[39m\n",
       "\u001b[90m 4\u001b[39m 5303550b-8ed2-42fd-885a-d32b308b05f3       \u001b[4m4\u001b[24m\u001b[4m3\u001b[24m\u001b[4m2\u001b[24m470 Office Visit   2016-10-22 \u001b[90m00:00:00\u001b[39m\n",
       "\u001b[90m 5\u001b[39m 5303550b-8ed2-42fd-885a-d32b308b05f3       \u001b[4m4\u001b[24m\u001b[4m1\u001b[24m\u001b[4m0\u001b[24m795 Office Visit   2016-10-01 \u001b[90m00:00:00\u001b[39m\n",
       "\u001b[90m 6\u001b[39m 5303550b-8ed2-42fd-885a-d32b308b05f3       \u001b[4m6\u001b[24m\u001b[4m3\u001b[24m\u001b[4m1\u001b[24m974 Office Visit   2017-05-08 \u001b[90m00:00:00\u001b[39m\n",
       "\u001b[90m 7\u001b[39m 5303550b-8ed2-42fd-885a-d32b308b05f3       \u001b[4m4\u001b[24m\u001b[4m8\u001b[24m\u001b[4m3\u001b[24m944 Office Visit   2016-12-10 \u001b[90m00:00:00\u001b[39m\n",
       "\u001b[90m 8\u001b[39m 5303550b-8ed2-42fd-885a-d32b308b05f3       \u001b[4m4\u001b[24m\u001b[4m1\u001b[24m\u001b[4m1\u001b[24m794 Office Visit   2016-10-03 \u001b[90m00:00:00\u001b[39m\n",
       "\u001b[90m 9\u001b[39m 5303550b-8ed2-42fd-885a-d32b308b05f3       \u001b[4m3\u001b[24m\u001b[4m2\u001b[24m\u001b[4m4\u001b[24m374 Office Visit   2016-07-11 \u001b[90m00:00:00\u001b[39m\n",
       "\u001b[90m10\u001b[39m 5303550b-8ed2-42fd-885a-d32b308b05f3       \u001b[4m7\u001b[24m\u001b[4m0\u001b[24m\u001b[4m5\u001b[24m948 Office Visit   2017-07-19 \u001b[90m00:00:00\u001b[39m\n",
       "\u001b[90m# ... with more rows\u001b[39m"
      ]
     },
     "metadata": {},
     "output_type": "display_data"
    }
   ],
   "source": [
    "encounters = return_table(\"encounters\", engine=de)\n",
    "encounters"
   ]
  },
  {
   "cell_type": "markdown",
   "metadata": {},
   "source": [
    "For example, we can do \"SELECT encounter_type, count() as CT from encounters group by encounter_type ORDER BY COUNT()\" without explicitly writing the SQL query"
   ]
  },
  {
   "cell_type": "code",
   "execution_count": 8,
   "metadata": {},
   "outputs": [
    {
     "data": {
      "text/plain": [
       "\u001b[90m# Source:     lazy query [?? x 2]\u001b[39m\n",
       "\u001b[90m# Database:   Microsoft SQL Server\n",
       "#   13.00.5830[@ESMPMDBPR4/CAMP_PMCoE_Projection]\u001b[39m\n",
       "\u001b[90m# Ordered by: desc(ct)\u001b[39m\n",
       "   encounter_type         ct\n",
       "   \u001b[3m\u001b[90m<chr>\u001b[39m\u001b[23m               \u001b[3m\u001b[90m<int>\u001b[39m\u001b[23m\n",
       "\u001b[90m 1\u001b[39m Office Visit       \u001b[4m4\u001b[24m\u001b[4m3\u001b[24m\u001b[4m1\u001b[24m080\n",
       "\u001b[90m 2\u001b[39m Appointment         \u001b[4m9\u001b[24m\u001b[4m7\u001b[24m718\n",
       "\u001b[90m 3\u001b[39m Hospital Encounter  \u001b[4m8\u001b[24m\u001b[4m6\u001b[24m789\n",
       "\u001b[90m 4\u001b[39m Visit Encounter     \u001b[4m6\u001b[24m\u001b[4m2\u001b[24m740\n",
       "\u001b[90m 5\u001b[39m Clinical Support    \u001b[4m2\u001b[24m\u001b[4m1\u001b[24m626\n",
       "\u001b[90m 6\u001b[39m Procedure visit     \u001b[4m1\u001b[24m\u001b[4m8\u001b[24m256\n",
       "\u001b[90m 7\u001b[39m Results Only         \u001b[4m8\u001b[24m895\n",
       "\u001b[90m 8\u001b[39m Orders Only          \u001b[4m8\u001b[24m635\n",
       "\u001b[90m 9\u001b[39m Anti-coag visit      \u001b[4m7\u001b[24m284\n",
       "\u001b[90m10\u001b[39m Provider Procedure   \u001b[4m2\u001b[24m987\n",
       "\u001b[90m# ... with more rows\u001b[39m"
      ]
     },
     "metadata": {},
     "output_type": "display_data"
    }
   ],
   "source": [
    "encounters %>% dplyr::group_by(encounter_type) %>% dplyr::summarize(ct = n()) %>% dplyr::arrange(desc(ct))"
   ]
  },
  {
   "cell_type": "markdown",
   "metadata": {},
   "source": [
    "We can of course pull the entire table locally, if we desire, using `dplyr::collect()`"
   ]
  },
  {
   "cell_type": "code",
   "execution_count": 9,
   "metadata": {},
   "outputs": [
    {
     "name": "stdout",
     "output_type": "stream",
     "text": [
      "\u001b[90m# A tibble: 10 x 4\u001b[39m\n",
      "   osler_id                             encounter_id encounter_type encounter_date     \n",
      "   \u001b[3m\u001b[90m<chr>\u001b[39m\u001b[23m                                       \u001b[3m\u001b[90m<int>\u001b[39m\u001b[23m \u001b[3m\u001b[90m<chr>\u001b[39m\u001b[23m          \u001b[3m\u001b[90m<dttm>\u001b[39m\u001b[23m             \n",
      "\u001b[90m 1\u001b[39m 5303550b-8ed2-42fd-885a-d32b308b05f3        \u001b[4m1\u001b[24m\u001b[4m7\u001b[24m938 Office Visit   2015-10-10 \u001b[90m00:00:00\u001b[39m\n",
      "\u001b[90m 2\u001b[39m 5303550b-8ed2-42fd-885a-d32b308b05f3       \u001b[4m1\u001b[24m\u001b[4m4\u001b[24m\u001b[4m2\u001b[24m706 Office Visit   2016-01-24 \u001b[90m00:00:00\u001b[39m\n",
      "\u001b[90m 3\u001b[39m 5303550b-8ed2-42fd-885a-d32b308b05f3       \u001b[4m5\u001b[24m\u001b[4m7\u001b[24m\u001b[4m1\u001b[24m465 Office Visit   2017-03-19 \u001b[90m00:00:00\u001b[39m\n",
      "\u001b[90m 4\u001b[39m 5303550b-8ed2-42fd-885a-d32b308b05f3       \u001b[4m4\u001b[24m\u001b[4m3\u001b[24m\u001b[4m2\u001b[24m470 Office Visit   2016-10-22 \u001b[90m00:00:00\u001b[39m\n",
      "\u001b[90m 5\u001b[39m 5303550b-8ed2-42fd-885a-d32b308b05f3       \u001b[4m4\u001b[24m\u001b[4m1\u001b[24m\u001b[4m0\u001b[24m795 Office Visit   2016-10-01 \u001b[90m00:00:00\u001b[39m\n",
      "\u001b[90m 6\u001b[39m 5303550b-8ed2-42fd-885a-d32b308b05f3       \u001b[4m6\u001b[24m\u001b[4m3\u001b[24m\u001b[4m1\u001b[24m974 Office Visit   2017-05-08 \u001b[90m00:00:00\u001b[39m\n",
      "\u001b[90m 7\u001b[39m 5303550b-8ed2-42fd-885a-d32b308b05f3       \u001b[4m4\u001b[24m\u001b[4m8\u001b[24m\u001b[4m3\u001b[24m944 Office Visit   2016-12-10 \u001b[90m00:00:00\u001b[39m\n",
      "\u001b[90m 8\u001b[39m 5303550b-8ed2-42fd-885a-d32b308b05f3       \u001b[4m4\u001b[24m\u001b[4m1\u001b[24m\u001b[4m1\u001b[24m794 Office Visit   2016-10-03 \u001b[90m00:00:00\u001b[39m\n",
      "\u001b[90m 9\u001b[39m 5303550b-8ed2-42fd-885a-d32b308b05f3       \u001b[4m3\u001b[24m\u001b[4m2\u001b[24m\u001b[4m4\u001b[24m374 Office Visit   2016-07-11 \u001b[90m00:00:00\u001b[39m\n",
      "\u001b[90m10\u001b[39m 5303550b-8ed2-42fd-885a-d32b308b05f3       \u001b[4m7\u001b[24m\u001b[4m0\u001b[24m\u001b[4m5\u001b[24m948 Office Visit   2017-07-19 \u001b[90m00:00:00\u001b[39m\n"
     ]
    }
   ],
   "source": [
    "encounters_local = encounters %>% dplyr::collect()\n",
    "print(encounters_local %>% head(10))"
   ]
  },
  {
   "cell_type": "markdown",
   "metadata": {},
   "source": [
    "#### Use `query_db()` to submit any sql query directly to the database; by default it returns a lazy tbl"
   ]
  },
  {
   "cell_type": "code",
   "execution_count": 10,
   "metadata": {},
   "outputs": [
    {
     "data": {
      "text/plain": [
       "\u001b[90m# Source:     SQL [?? x 2]\u001b[39m\n",
       "\u001b[90m# Database:   Microsoft SQL Server\n",
       "#   13.00.5830[@ESMPMDBPR4/CAMP_PMCoE_Projection]\u001b[39m\n",
       "\u001b[90m# Ordered by: desc(ct)\u001b[39m\n",
       "   encounter_type         ct\n",
       "   \u001b[3m\u001b[90m<chr>\u001b[39m\u001b[23m               \u001b[3m\u001b[90m<int>\u001b[39m\u001b[23m\n",
       "\u001b[90m 1\u001b[39m Office Visit       \u001b[4m4\u001b[24m\u001b[4m3\u001b[24m\u001b[4m1\u001b[24m080\n",
       "\u001b[90m 2\u001b[39m Appointment         \u001b[4m9\u001b[24m\u001b[4m7\u001b[24m718\n",
       "\u001b[90m 3\u001b[39m Hospital Encounter  \u001b[4m8\u001b[24m\u001b[4m6\u001b[24m789\n",
       "\u001b[90m 4\u001b[39m Visit Encounter     \u001b[4m6\u001b[24m\u001b[4m2\u001b[24m740\n",
       "\u001b[90m 5\u001b[39m Clinical Support    \u001b[4m2\u001b[24m\u001b[4m1\u001b[24m626\n",
       "\u001b[90m 6\u001b[39m Procedure visit     \u001b[4m1\u001b[24m\u001b[4m8\u001b[24m256\n",
       "\u001b[90m 7\u001b[39m Results Only         \u001b[4m8\u001b[24m895\n",
       "\u001b[90m 8\u001b[39m Orders Only          \u001b[4m8\u001b[24m635\n",
       "\u001b[90m 9\u001b[39m Anti-coag visit      \u001b[4m7\u001b[24m284\n",
       "\u001b[90m10\u001b[39m Provider Procedure   \u001b[4m2\u001b[24m987\n",
       "\u001b[90m# ... with more rows\u001b[39m"
      ]
     },
     "metadata": {},
     "output_type": "display_data"
    }
   ],
   "source": [
    "qry <- \"SELECT encounter_type, ct = COUNT(*) FROM encounters GROUP BY encounter_type\"\n",
    "query_db(qry, engine=de) %>% dplyr::arrange(desc(ct))"
   ]
  },
  {
   "cell_type": "markdown",
   "metadata": {},
   "source": [
    "#### Use gen_random_table() to get subset of the identifying variables for a table; the function creates a table on the db, and returns the name of that temp table"
   ]
  },
  {
   "cell_type": "code",
   "execution_count": 11,
   "metadata": {},
   "outputs": [
    {
     "name": "stdout",
     "output_type": "stream",
     "text": [
      "Name of the newly created table is  #iei6rm6n65bvxp6w \n"
     ]
    }
   ],
   "source": [
    "random_px = gen_random_table(\"patients\",idvars=\"osler_id\", engine=de)\n",
    "cat(\"Name of the newly created table is \", random_px,\"\\n\")"
   ]
  },
  {
   "cell_type": "markdown",
   "metadata": {},
   "source": [
    "### You can feed this table name, just like any other table name, to the `return_table()` function"
   ]
  },
  {
   "cell_type": "code",
   "execution_count": 12,
   "metadata": {},
   "outputs": [
    {
     "data": {
      "text/plain": [
       "\u001b[90m# Source:   table<dbo.#iei6rm6n65bvxp6w> [?? x 1]\u001b[39m\n",
       "\u001b[90m# Database: Microsoft SQL Server 13.00.5830[@ESMPMDBPR4/CAMP_PMCoE_Projection]\u001b[39m\n",
       "   osler_id                            \n",
       "   \u001b[3m\u001b[90m<chr>\u001b[39m\u001b[23m                               \n",
       "\u001b[90m 1\u001b[39m 06241faa-5e35-4dad-b7aa-2058e91593c9\n",
       "\u001b[90m 2\u001b[39m 0e27f860-9da4-46f6-9252-5f600d8f556d\n",
       "\u001b[90m 3\u001b[39m 0efb9700-17d8-4704-86ae-9264c3e79a83\n",
       "\u001b[90m 4\u001b[39m 150b3f97-f376-4063-87e0-2e670291f2e7\n",
       "\u001b[90m 5\u001b[39m 24335e4d-5087-4e87-93f7-374e46de12aa\n",
       "\u001b[90m 6\u001b[39m 245acfaf-94a8-4053-899d-d68758bb6784\n",
       "\u001b[90m 7\u001b[39m 2b963972-eaaf-467a-a41e-097b78f68920\n",
       "\u001b[90m 8\u001b[39m 335a15d9-3f22-4904-a39e-6276e6fd800b\n",
       "\u001b[90m 9\u001b[39m 3ab1f9f7-dea5-4480-a128-db8411ce0772\n",
       "\u001b[90m10\u001b[39m 3c6776db-7416-479f-880b-ecbad70df597\n",
       "\u001b[90m# ... with more rows\u001b[39m"
      ]
     },
     "metadata": {},
     "output_type": "display_data"
    }
   ],
   "source": [
    "return_table(random_px, engine=de)"
   ]
  },
  {
   "cell_type": "markdown",
   "metadata": {},
   "source": [
    "### This table of random ids could be used in simple joins, for example, below we get all the rows from the `vitals_weight` table for the osler ids in the `random_px` table."
   ]
  },
  {
   "cell_type": "code",
   "execution_count": 13,
   "metadata": {},
   "outputs": [
    {
     "data": {
      "text/plain": [
       "\u001b[90m# Source:   lazy query [?? x 7]\u001b[39m\n",
       "\u001b[90m# Database: Microsoft SQL Server 13.00.5830[@ESMPMDBPR4/CAMP_PMCoE_Projection]\u001b[39m\n",
       "   osler_id       encounter_id encounter_type admission_date      discharge_date\n",
       "   \u001b[3m\u001b[90m<chr>\u001b[39m\u001b[23m                 \u001b[3m\u001b[90m<int>\u001b[39m\u001b[23m \u001b[3m\u001b[90m<chr>\u001b[39m\u001b[23m          \u001b[3m\u001b[90m<dttm>\u001b[39m\u001b[23m              \u001b[3m\u001b[90m<dttm>\u001b[39m\u001b[23m        \n",
       "\u001b[90m 1\u001b[39m b9109da7-0a5b~       \u001b[4m1\u001b[24m\u001b[4m3\u001b[24m\u001b[4m0\u001b[24m103 Office Visit   2016-05-24 \u001b[90m00:00:00\u001b[39m \u001b[31mNA\u001b[39m            \n",
       "\u001b[90m 2\u001b[39m b9109da7-0a5b~       \u001b[4m4\u001b[24m\u001b[4m2\u001b[24m\u001b[4m6\u001b[24m463 Office Visit   2017-03-06 \u001b[90m00:00:00\u001b[39m \u001b[31mNA\u001b[39m            \n",
       "\u001b[90m 3\u001b[39m b9109da7-0a5b~       \u001b[4m2\u001b[24m\u001b[4m2\u001b[24m\u001b[4m6\u001b[24m044 Office Visit   2016-08-28 \u001b[90m00:00:00\u001b[39m \u001b[31mNA\u001b[39m            \n",
       "\u001b[90m 4\u001b[39m b9109da7-0a5b~       \u001b[4m3\u001b[24m\u001b[4m5\u001b[24m\u001b[4m8\u001b[24m798 Office Visit   2017-01-09 \u001b[90m00:00:00\u001b[39m \u001b[31mNA\u001b[39m            \n",
       "\u001b[90m 5\u001b[39m b9109da7-0a5b~        \u001b[4m7\u001b[24m\u001b[4m2\u001b[24m012 Office Visit   2016-03-27 \u001b[90m00:00:00\u001b[39m \u001b[31mNA\u001b[39m            \n",
       "\u001b[90m 6\u001b[39m b9109da7-0a5b~       \u001b[4m7\u001b[24m\u001b[4m5\u001b[24m\u001b[4m2\u001b[24m139 Office Visit   2018-01-31 \u001b[90m00:00:00\u001b[39m \u001b[31mNA\u001b[39m            \n",
       "\u001b[90m 7\u001b[39m a15c4ddb-52ce~       \u001b[4m6\u001b[24m\u001b[4m8\u001b[24m\u001b[4m9\u001b[24m161 Office Visit   2018-02-25 \u001b[90m00:00:00\u001b[39m \u001b[31mNA\u001b[39m            \n",
       "\u001b[90m 8\u001b[39m a15c4ddb-52ce~       \u001b[4m7\u001b[24m\u001b[4m4\u001b[24m\u001b[4m7\u001b[24m765 Office Visit   2018-03-12 \u001b[90m00:00:00\u001b[39m \u001b[31mNA\u001b[39m            \n",
       "\u001b[90m 9\u001b[39m afe73c2a-dd53~       \u001b[4m5\u001b[24m\u001b[4m6\u001b[24m\u001b[4m0\u001b[24m919 Office Visit   2017-09-25 \u001b[90m00:00:00\u001b[39m \u001b[31mNA\u001b[39m            \n",
       "\u001b[90m10\u001b[39m afe73c2a-dd53~       \u001b[4m3\u001b[24m\u001b[4m6\u001b[24m\u001b[4m8\u001b[24m007 Office Visit   2017-03-26 \u001b[90m00:00:00\u001b[39m \u001b[31mNA\u001b[39m            \n",
       "\u001b[90m# ... with more rows, and 2 more variables: weight <chr>, weight_date <dttm>\u001b[39m"
      ]
     },
     "metadata": {},
     "output_type": "display_data"
    }
   ],
   "source": [
    "return_table(\"vitals_weight\", engine=de) %>% \n",
    "    dplyr::inner_join(return_table(random_px, engine=de), by=\"osler_id\")"
   ]
  },
  {
   "cell_type": "code",
   "execution_count": null,
   "metadata": {},
   "outputs": [],
   "source": []
  }
 ],
 "metadata": {
  "kernelspec": {
   "display_name": "R ",
   "language": "R",
   "name": "ir"
  },
  "language_info": {
   "codemirror_mode": "r",
   "file_extension": ".r",
   "mimetype": "text/x-r-source",
   "name": "R",
   "pygments_lexer": "r",
   "version": "4.0.0"
  }
 },
 "nbformat": 4,
 "nbformat_minor": 4
}
